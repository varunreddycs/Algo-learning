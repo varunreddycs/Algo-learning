{
 "cells": [
  {
   "cell_type": "code",
   "execution_count": null,
   "metadata": {},
   "outputs": [],
   "source": [
    "%matplotlib inline"
   ]
  },
  {
   "cell_type": "markdown",
   "metadata": {},
   "source": [
    "\n",
    "# Plotting simple sine function\n",
    "\n",
    "\n",
    "A simple example plotting a fit of the sine function.\n"
   ]
  },
  {
   "cell_type": "code",
   "execution_count": null,
   "metadata": {},
   "outputs": [],
   "source": [
    "import numpy\n",
    "import matplotlib.pyplot as plt\n",
    "from pyearth import Earth\n",
    "\n",
    "numpy.random.seed(2)\n",
    "m = 10000\n",
    "n = 10\n",
    "X = 80 * numpy.random.uniform(size=(m, n)) - 40\n",
    "y = 100 * \\\n",
    "    (numpy.sin((X[:, 6])) - 4.0) + \\\n",
    "    10 * numpy.random.normal(size=m)\n",
    "\n",
    "# Fit an Earth model\n",
    "model = Earth(max_degree=3, minspan_alpha=.5, verbose=True)\n",
    "model.fit(X, y)\n",
    "\n",
    "# Print the model\n",
    "print(model.trace())\n",
    "print(model.summary())\n",
    "\n",
    "# Plot the model\n",
    "y_hat = model.predict(X)\n",
    "plt.plot(X[:, 6], y, 'r.')\n",
    "plt.plot(X[:, 6], y_hat, 'b.')\n",
    "plt.show()"
   ]
  },
  {
   "cell_type": "code",
   "execution_count": null,
   "metadata": {
    "collapsed": true
   },
   "outputs": [],
   "source": []
  }
 ],
 "metadata": {
  "kernelspec": {
   "display_name": "Python 3",
   "language": "python",
   "name": "python3"
  },
  "language_info": {
   "codemirror_mode": {
    "name": "ipython",
    "version": 3
   },
   "file_extension": ".py",
   "mimetype": "text/x-python",
   "name": "python",
   "nbconvert_exporter": "python",
   "pygments_lexer": "ipython3",
   "version": "3.6.3"
  }
 },
 "nbformat": 4,
 "nbformat_minor": 1
}
