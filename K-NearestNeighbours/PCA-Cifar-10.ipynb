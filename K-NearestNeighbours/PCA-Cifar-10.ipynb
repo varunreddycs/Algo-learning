{
 "cells": [
  {
   "cell_type": "code",
   "execution_count": null,
   "metadata": {},
   "outputs": [],
   "source": [
    "#  In this module we will implement PCA on cipher images and\n",
    "#   check if we are able to reduce the dimensions(Reduce the insignificant data which is not needed)"
   ]
  },
  {
   "cell_type": "code",
   "execution_count": null,
   "metadata": {},
   "outputs": [],
   "source": [
    "# First step is to load tha data and understand"
   ]
  },
  {
   "cell_type": "code",
   "execution_count": null,
   "metadata": {},
   "outputs": [],
   "source": [
    "# The first step is to calculate the mean values of each column.This gives the centre of all all features.\n",
    "# Change the centre to origin\n",
    "# \n",
    "\n"
   ]
  },
  {
   "cell_type": "code",
   "execution_count": 1,
   "metadata": {},
   "outputs": [],
   "source": [
    "\n",
    "\n",
    "import pandas as pd\n",
    "from numpy import mean\n",
    "from numpy import cov\n",
    "from numpy.linalg import eig\n",
    "import numpy as np\n",
    "import math\n",
    "import timeit\n",
    "import matplotlib.pyplot as plt\n",
    "from six.moves import cPickle as pickle\n",
    "import os\n",
    "import platform\n",
    "from subprocess import check_output"
   ]
  },
  {
   "cell_type": "code",
   "execution_count": 2,
   "metadata": {},
   "outputs": [],
   "source": [
    "with open(\"E:\\Algo-Learning\\K-NearestNeighbours\\cifar-10-batches-py\\data_batch_1\", 'rb') as fo:\n",
    "    dict = pickle.load(fo, encoding='bytes')\n",
    "images  = dict[b'data']"
   ]
  },
  {
   "cell_type": "code",
   "execution_count": 3,
   "metadata": {},
   "outputs": [
    {
     "name": "stdout",
     "output_type": "stream",
     "text": [
      "(3072,)\n",
      "(32, 32, 3)\n"
     ]
    },
    {
     "data": {
      "text/plain": [
       "<matplotlib.image.AxesImage at 0x1ab50bb00b8>"
      ]
     },
     "execution_count": 3,
     "metadata": {},
     "output_type": "execute_result"
    },
    {
     "data": {
      "image/png": "[encoded data removed]",
      "text/plain": [
       "<Figure size 432x288 with 1 Axes>"
      ]
     },
     "metadata": {
      "needs_background": "light"
     },
     "output_type": "display_data"
    }
   ],
   "source": [
    "# lets plot one image\n",
    "single_img =np.array(images[3])\n",
    "print(single_img.shape)\n",
    "\n",
    "single_img_reshaped = single_img.reshape(3,32,32).transpose([2,1 , 0])\n",
    "print(single_img_reshaped.shape)\n",
    "plt.imshow(single_img_reshaped)\n",
    "\n"
   ]
  },
  {
   "cell_type": "code",
   "execution_count": 13,
   "metadata": {},
   "outputs": [
    {
     "name": "stdout",
     "output_type": "stream",
     "text": [
      "[28 37 38 ... 28 37 46]\n"
     ]
    }
   ],
   "source": []
  },
  {
   "cell_type": "code",
   "execution_count": 4,
   "metadata": {},
   "outputs": [],
   "source": [
    "def load_pickle(f):\n",
    "    version = platform.python_version_tuple()\n",
    "    if version[0] == '2':\n",
    "        return  pickle.load(f)\n",
    "    elif version[0] == '3':\n",
    "        return  pickle.load(f, encoding='latin1')\n",
    "    raise ValueError(\"invalid python version: {}\".format(version))\n",
    "\n",
    "def load_CIFAR_batch(filename):\n",
    "    \"\"\" load single batch of cifar \"\"\"\n",
    "    with open(filename, 'rb') as f:\n",
    "        datadict = load_pickle(f)\n",
    "        X = datadict['data']\n",
    "        Y = datadict['labels']\n",
    "        X = X.reshape(10000,3072)\n",
    "        Y = np.array(Y)\n",
    "        return X, Y\n",
    "\n",
    "def load_CIFAR10(ROOT):\n",
    "    \"\"\" load all of cifar \"\"\"\n",
    "    xs = []\n",
    "    ys = []\n",
    "    for b in range(1,6):\n",
    "        f = os.path.join(ROOT, 'data_batch_%d' % (b, ))\n",
    "        X, Y = load_CIFAR_batch(f)\n",
    "        xs.append(X)\n",
    "        ys.append(Y)\n",
    "    Xtr = np.concatenate(xs)\n",
    "    Ytr = np.concatenate(ys)\n",
    "    del X, Y\n",
    "    Xte, Yte = load_CIFAR_batch(os.path.join(ROOT, 'test_batch'))\n",
    "    return Xtr, Ytr, Xte, Yte\n",
    "\n",
    "\n",
    "def get_CIFAR10_data(num_training=49000, num_validation=1000, num_test=10000):\n",
    "    # Load the raw CIFAR-10 data\n",
    "    cifar10_dir = 'E:\\Algo-Learning\\K-NearestNeighbours\\cifar-10-batches-py'\n",
    "    X_train, y_train, X_test, y_test = load_CIFAR10(cifar10_dir)\n",
    "\n",
    "    # Subsample the data\n",
    "    mask = range(num_training, num_training + num_validation)\n",
    "    X_val = X_train[mask]\n",
    "    y_val = y_train[mask]\n",
    "    mask = range(num_training)\n",
    "    X_train = X_train[mask]\n",
    "    y_train = y_train[mask]\n",
    "    mask = range(num_test)\n",
    "    X_test = X_test[mask]\n",
    "    y_test = y_test[mask]\n",
    "\n",
    "    x_train = X_train.astype('float32')\n",
    "    x_test = X_test.astype('float32')\n",
    "\n",
    "    x_train /= 255\n",
    "    x_test /= 255\n",
    "\n",
    "    return x_train, y_train, X_val, y_val, x_test, y_test"
   ]
  },
  {
   "cell_type": "code",
   "execution_count": 5,
   "metadata": {},
   "outputs": [],
   "source": [
    "x_train, y_train, x_val, y_val, x_test, y_test = get_CIFAR10_data()\n"
   ]
  },
  {
   "cell_type": "code",
   "execution_count": 17,
   "metadata": {},
   "outputs": [
    {
     "name": "stdout",
     "output_type": "stream",
     "text": [
      "(10000, 3072)\n"
     ]
    }
   ],
   "source": [
    "print(np.shape(x_test))"
   ]
  },
  {
   "cell_type": "code",
   "execution_count": null,
   "metadata": {},
   "outputs": [],
   "source": [
    "# This is where relocation of the centre comes into picture."
   ]
  },
  {
   "cell_type": "code",
   "execution_count": null,
   "metadata": {},
   "outputs": [],
   "source": [
    "    print(np.shape(x_train))\n",
    "    M = mean(x_train.T, axis=1)\n",
    "    print(M)\n",
    "    Centre = x_train - M\n",
    "    print(Centre)"
   ]
  },
  {
   "cell_type": "code",
   "execution_count": 10,
   "metadata": {},
   "outputs": [
    {
     "name": "stdout",
     "output_type": "stream",
     "text": [
      "(49000, 3072)\n",
      "[0.51232    0.5100241  0.51357174 ... 0.44652233 0.44674474 0.44862607]\n",
      "[[-0.28094745 -0.34139663 -0.31749332 ...  0.10249731 -0.11733297\n",
      "  -0.16627312]\n",
      " [ 0.09160161 -0.01590642 -0.10180703 ...  0.09857574  0.11011803\n",
      "   0.11607984]\n",
      " [ 0.48768002  0.4821328   0.47858512 ... -0.12103212 -0.12125453\n",
      "  -0.1192143 ]\n",
      " ...\n",
      " [-0.2731043  -0.32963192 -0.36063057 ...  0.141713    0.09835333\n",
      "   0.01019746]\n",
      " [-0.4731043  -0.46688682 -0.43514037 ...  0.38092867  0.36894155\n",
      "   0.3552955 ]\n",
      " [ 0.17395455  0.16448575  0.15701652 ... -0.14063996 -0.09380355\n",
      "  -0.09568489]]\n"
     ]
    }
   ],
   "source": []
  },
  {
   "cell_type": "code",
   "execution_count": 7,
   "metadata": {},
   "outputs": [],
   "source": [
    "#To find the Eigen vectors find the covariance of matrix and find the EigenDecomposition of the matrix"
   ]
  },
  {
   "cell_type": "code",
   "execution_count": 13,
   "metadata": {},
   "outputs": [],
   "source": [
    "covMatrix = cov(Centre.T)\n",
    "eigenvalues, eigenvectors = eig(covMatrix)"
   ]
  },
  {
   "cell_type": "code",
   "execution_count": 14,
   "metadata": {},
   "outputs": [
    {
     "name": "stdout",
     "output_type": "stream",
     "text": [
      "[5.53561930e+01 2.14509379e+01 1.27343302e+01 ... 8.00337049e-06\n",
      " 6.72674996e-06 6.79001732e-06]\n",
      "[[-2.63114024e-02  1.59630506e-02  2.16860141e-02 ...  3.92286307e-04\n",
      "  -1.75218057e-03  3.88246678e-03]\n",
      " [-2.62379977e-02  1.62619849e-02  2.15400724e-02 ... -6.66250346e-03\n",
      "  -1.75315868e-02 -1.05289936e-03]\n",
      " [-2.62787890e-02  1.66607595e-02  2.14676137e-02 ... -7.14056292e-03\n",
      "   4.13190541e-02  5.44361309e-05]\n",
      " ...\n",
      " [-1.87126182e-02 -2.20015948e-02  1.68903544e-02 ... -6.93450675e-03\n",
      "   6.58316331e-03 -1.07043015e-02]\n",
      " [-1.89184129e-02 -2.12393171e-02  1.69648776e-02 ...  6.61104467e-03\n",
      "  -9.73515990e-03  8.87043009e-03]\n",
      " [-1.92383363e-02 -2.05245610e-02  1.70754225e-02 ...  1.34099100e-05\n",
      "   4.91604004e-03 -3.05468382e-03]]\n"
     ]
    }
   ],
   "source": [
    "# We will project data in next step\n",
    "print(eigenvalues)\n",
    "print(eigenvectors)"
   ]
  },
  {
   "cell_type": "code",
   "execution_count": 15,
   "metadata": {},
   "outputs": [],
   "source": [
    "P = eigenvectors.T.dot(Centre.T)"
   ]
  },
  {
   "cell_type": "code",
   "execution_count": 20,
   "metadata": {},
   "outputs": [
    {
     "name": "stdout",
     "output_type": "stream",
     "text": [
      "(3072, 49000)\n",
      "(49000,)\n",
      "[[ 6.39790384e+00 -2.72400391e+00 -1.50187308e+00 ... -2.36402781e-04\n",
      "   2.69245304e-03  2.47691759e-03]\n",
      " [-8.31968939e-01  9.38838910e-01 -6.01251570e+00 ... -4.71263948e-04\n",
      "   1.67284588e-03  1.03741190e-03]\n",
      " [-7.73069667e+00  1.15377413e+01  2.72894655e+00 ... -1.50209318e-03\n",
      "  -6.66073028e-04 -8.08319933e-04]\n",
      " ...\n",
      " [ 1.11012655e+00 -4.43138371e+00 -1.14573894e+00 ...  3.96197809e-03\n",
      "  -2.78185262e-03  3.19152743e-03]\n",
      " [ 1.07380449e+01 -4.58087393e+00  3.90573551e+00 ...  5.71319442e-04\n",
      "  -2.11034578e-03  1.50968175e-04]\n",
      " [-2.54292366e+00  5.98580861e+00 -4.63864979e+00 ...  2.56734649e-05\n",
      "   7.80727071e-04 -1.66204024e-03]]\n"
     ]
    }
   ],
   "source": [
    "# Now we have Transformed  train data .\n",
    "print(np.shape(P))\n",
    "print(np.shape(y_train))\n",
    "print(P.T)"
   ]
  },
  {
   "cell_type": "code",
   "execution_count": 19,
   "metadata": {},
   "outputs": [],
   "source": [
    "# Lets put everything Together \n",
    "\n",
    "def PCA_Custom(data):\n",
    "    print(np.shape(data))\n",
    "    M = mean(data.T, axis=1)\n",
    "    print(M)\n",
    "    Centre = data - M\n",
    "    print(Centre)\n",
    "    covMatrix = cov(Centre.T)\n",
    "    eigenvalues, eigenvectors = eig(covMatrix)\n",
    "    P = eigenvectors.T.dot(Centre.T)\n",
    "    return P.T"
   ]
  },
  {
   "cell_type": "code",
   "execution_count": 20,
   "metadata": {},
   "outputs": [
    {
     "name": "stdout",
     "output_type": "stream",
     "text": [
      "(49000, 3072)\n",
      "[0.51232    0.5100241  0.51357174 ... 0.44652233 0.44674474 0.44862607]\n",
      "[[-0.28094745 -0.34139663 -0.31749332 ...  0.10249731 -0.11733297\n",
      "  -0.16627312]\n",
      " [ 0.09160161 -0.01590642 -0.10180703 ...  0.09857574  0.11011803\n",
      "   0.11607984]\n",
      " [ 0.48768002  0.4821328   0.47858512 ... -0.12103212 -0.12125453\n",
      "  -0.1192143 ]\n",
      " ...\n",
      " [-0.2731043  -0.32963192 -0.36063057 ...  0.141713    0.09835333\n",
      "   0.01019746]\n",
      " [-0.4731043  -0.46688682 -0.43514037 ...  0.38092867  0.36894155\n",
      "   0.3552955 ]\n",
      " [ 0.17395455  0.16448575  0.15701652 ... -0.14063996 -0.09380355\n",
      "  -0.09568489]]\n",
      "(10000, 3072)\n",
      "[0.51190305 0.50978154 0.51429594 ... 0.4503701  0.45010322 0.45226416]\n",
      "[[ 0.10770482  0.11374789  0.13276291 ...  0.03590441  0.05577916\n",
      "  -0.02089161]\n",
      " [ 0.40966558  0.39610082  0.395508   ...  0.24766913  0.2989164\n",
      "   0.328128  ]\n",
      " [ 0.10770482  0.10982633  0.03080213 ... -0.41899756 -0.43833852\n",
      "  -0.42481318]\n",
      " ...\n",
      " [-0.43347168 -0.43527174 -0.4554724  ... -0.25429165 -0.24226008\n",
      "  -0.26795042]\n",
      " [-0.41386384 -0.450958   -0.42409986 ... -0.1366446  -0.13245615\n",
      "  -0.13853866]\n",
      " [-0.22562853 -0.1254678  -0.12606063 ... -0.08174264 -0.22265224\n",
      "  -0.35030338]]\n",
      "(1000, 3072)\n",
      "[134.084 134.289 135.455 ... 112.242 113.253 113.514]\n",
      "[[ 36.916  34.711  32.545 ...  34.758  32.747  33.486]\n",
      " [120.916 119.711 115.545 ... 141.758 140.747 141.486]\n",
      " [ 19.916  22.711  19.545 ...  18.758   1.747  -2.514]\n",
      " ...\n",
      " [-99.084 -94.289 -93.455 ... -35.242 -47.253 -63.514]\n",
      " [ 54.916  51.711  49.545 ...  56.758  57.747  57.486]\n",
      " [ 94.916 101.711  98.545 ...  60.758  48.747  47.486]]\n"
     ]
    }
   ],
   "source": [
    "# Lets apply KNN for this dataset\n",
    "X_transformed_train = PCA_Custom(x_train)\n",
    "X_transformed_test = PCA_Custom(x_test)\n",
    "X_transformed_val = PCA_Custom(x_val)\n"
   ]
  },
  {
   "cell_type": "code",
   "execution_count": 29,
   "metadata": {},
   "outputs": [
    {
     "name": "stdout",
     "output_type": "stream",
     "text": [
      "(49000, 3072)\n",
      "(49000, 3072)\n"
     ]
    }
   ],
   "source": [
    "print(np.shape(X_transformed_train))\n",
    "print(np.shape(x_train))"
   ]
  },
  {
   "cell_type": "code",
   "execution_count": 21,
   "metadata": {},
   "outputs": [
    {
     "data": {
      "text/plain": [
       "KNeighborsClassifier(algorithm='auto', leaf_size=30, metric='minkowski',\n",
       "           metric_params=None, n_jobs=None, n_neighbors=3, p=2,\n",
       "           weights='uniform')"
      ]
     },
     "execution_count": 21,
     "metadata": {},
     "output_type": "execute_result"
    }
   ],
   "source": [
    "import pandas as pd\n",
    "from sklearn.metrics import accuracy_score\n",
    "\n",
    "#print(data)\n",
    "from sklearn.neighbors import KNeighborsClassifier\n",
    "neigh = KNeighborsClassifier(n_neighbors=3)\n",
    "neigh_raw_dataset = KNeighborsClassifier(n_neighbors=3)\n",
    "\n",
    "neigh.fit(X_transformed_train,y_train)\n",
    "neigh_raw_dataset.fit(x_train,y_train)"
   ]
  },
  {
   "cell_type": "code",
   "execution_count": 31,
   "metadata": {},
   "outputs": [],
   "source": [
    "y_pred = neigh.predict(X_transformed_test)\n",
    "y_raw_pred = neigh_raw_dataset.predict(x_train)\n",
    "\n"
   ]
  },
  {
   "cell_type": "code",
   "execution_count": 30,
   "metadata": {},
   "outputs": [
    {
     "name": "stdout",
     "output_type": "stream",
     "text": [
      "(10000,)\n",
      "(49000,)\n"
     ]
    }
   ],
   "source": [
    "print(np.shape(y_pred))\n",
    "print(np.shape(y_raw_pred))"
   ]
  },
  {
   "cell_type": "code",
   "execution_count": 32,
   "metadata": {},
   "outputs": [
    {
     "ename": "ValueError",
     "evalue": "Found input variables with inconsistent numbers of samples: [10000, 49000]",
     "output_type": "error",
     "traceback": [
      "\u001b[1;31m---------------------------------------------------------------------------\u001b[0m",
      "\u001b[1;31mValueError\u001b[0m                                Traceback (most recent call last)",
      "\u001b[1;32m<ipython-input-32-e4511df635f8>\u001b[0m in \u001b[0;36m<module>\u001b[1;34m\u001b[0m\n\u001b[0;32m      1\u001b[0m \u001b[0maccuracy\u001b[0m \u001b[1;33m=\u001b[0m \u001b[0maccuracy_score\u001b[0m\u001b[1;33m(\u001b[0m\u001b[0my_test\u001b[0m\u001b[1;33m,\u001b[0m \u001b[0my_pred\u001b[0m\u001b[1;33m.\u001b[0m\u001b[0mT\u001b[0m\u001b[1;33m)\u001b[0m\u001b[1;33m*\u001b[0m\u001b[1;36m100\u001b[0m\u001b[1;33m\u001b[0m\u001b[1;33m\u001b[0m\u001b[0m\n\u001b[1;32m----> 2\u001b[1;33m \u001b[0maccurac1y\u001b[0m \u001b[1;33m=\u001b[0m \u001b[0maccuracy_score\u001b[0m\u001b[1;33m(\u001b[0m\u001b[0my_test\u001b[0m\u001b[1;33m,\u001b[0m \u001b[0my_raw_pred\u001b[0m\u001b[1;33m.\u001b[0m\u001b[0mT\u001b[0m\u001b[1;33m)\u001b[0m\u001b[1;33m*\u001b[0m\u001b[1;36m100\u001b[0m\u001b[1;33m\u001b[0m\u001b[1;33m\u001b[0m\u001b[0m\n\u001b[0m\u001b[0;32m      3\u001b[0m \u001b[1;33m\u001b[0m\u001b[0m\n",
      "\u001b[1;32mE:\\Anaconda\\lib\\site-packages\\sklearn\\metrics\\classification.py\u001b[0m in \u001b[0;36maccuracy_score\u001b[1;34m(y_true, y_pred, normalize, sample_weight)\u001b[0m\n\u001b[0;32m    174\u001b[0m \u001b[1;33m\u001b[0m\u001b[0m\n\u001b[0;32m    175\u001b[0m     \u001b[1;31m# Compute accuracy for each possible representation\u001b[0m\u001b[1;33m\u001b[0m\u001b[1;33m\u001b[0m\u001b[1;33m\u001b[0m\u001b[0m\n\u001b[1;32m--> 176\u001b[1;33m     \u001b[0my_type\u001b[0m\u001b[1;33m,\u001b[0m \u001b[0my_true\u001b[0m\u001b[1;33m,\u001b[0m \u001b[0my_pred\u001b[0m \u001b[1;33m=\u001b[0m \u001b[0m_check_targets\u001b[0m\u001b[1;33m(\u001b[0m\u001b[0my_true\u001b[0m\u001b[1;33m,\u001b[0m \u001b[0my_pred\u001b[0m\u001b[1;33m)\u001b[0m\u001b[1;33m\u001b[0m\u001b[1;33m\u001b[0m\u001b[0m\n\u001b[0m\u001b[0;32m    177\u001b[0m     \u001b[0mcheck_consistent_length\u001b[0m\u001b[1;33m(\u001b[0m\u001b[0my_true\u001b[0m\u001b[1;33m,\u001b[0m \u001b[0my_pred\u001b[0m\u001b[1;33m,\u001b[0m \u001b[0msample_weight\u001b[0m\u001b[1;33m)\u001b[0m\u001b[1;33m\u001b[0m\u001b[1;33m\u001b[0m\u001b[0m\n\u001b[0;32m    178\u001b[0m     \u001b[1;32mif\u001b[0m \u001b[0my_type\u001b[0m\u001b[1;33m.\u001b[0m\u001b[0mstartswith\u001b[0m\u001b[1;33m(\u001b[0m\u001b[1;34m'multilabel'\u001b[0m\u001b[1;33m)\u001b[0m\u001b[1;33m:\u001b[0m\u001b[1;33m\u001b[0m\u001b[1;33m\u001b[0m\u001b[0m\n",
      "\u001b[1;32mE:\\Anaconda\\lib\\site-packages\\sklearn\\metrics\\classification.py\u001b[0m in \u001b[0;36m_check_targets\u001b[1;34m(y_true, y_pred)\u001b[0m\n\u001b[0;32m     69\u001b[0m     \u001b[0my_pred\u001b[0m \u001b[1;33m:\u001b[0m \u001b[0marray\u001b[0m \u001b[1;32mor\u001b[0m \u001b[0mindicator\u001b[0m \u001b[0mmatrix\u001b[0m\u001b[1;33m\u001b[0m\u001b[1;33m\u001b[0m\u001b[0m\n\u001b[0;32m     70\u001b[0m     \"\"\"\n\u001b[1;32m---> 71\u001b[1;33m     \u001b[0mcheck_consistent_length\u001b[0m\u001b[1;33m(\u001b[0m\u001b[0my_true\u001b[0m\u001b[1;33m,\u001b[0m \u001b[0my_pred\u001b[0m\u001b[1;33m)\u001b[0m\u001b[1;33m\u001b[0m\u001b[1;33m\u001b[0m\u001b[0m\n\u001b[0m\u001b[0;32m     72\u001b[0m     \u001b[0mtype_true\u001b[0m \u001b[1;33m=\u001b[0m \u001b[0mtype_of_target\u001b[0m\u001b[1;33m(\u001b[0m\u001b[0my_true\u001b[0m\u001b[1;33m)\u001b[0m\u001b[1;33m\u001b[0m\u001b[1;33m\u001b[0m\u001b[0m\n\u001b[0;32m     73\u001b[0m     \u001b[0mtype_pred\u001b[0m \u001b[1;33m=\u001b[0m \u001b[0mtype_of_target\u001b[0m\u001b[1;33m(\u001b[0m\u001b[0my_pred\u001b[0m\u001b[1;33m)\u001b[0m\u001b[1;33m\u001b[0m\u001b[1;33m\u001b[0m\u001b[0m\n",
      "\u001b[1;32mE:\\Anaconda\\lib\\site-packages\\sklearn\\utils\\validation.py\u001b[0m in \u001b[0;36mcheck_consistent_length\u001b[1;34m(*arrays)\u001b[0m\n\u001b[0;32m    233\u001b[0m     \u001b[1;32mif\u001b[0m \u001b[0mlen\u001b[0m\u001b[1;33m(\u001b[0m\u001b[0muniques\u001b[0m\u001b[1;33m)\u001b[0m \u001b[1;33m>\u001b[0m \u001b[1;36m1\u001b[0m\u001b[1;33m:\u001b[0m\u001b[1;33m\u001b[0m\u001b[1;33m\u001b[0m\u001b[0m\n\u001b[0;32m    234\u001b[0m         raise ValueError(\"Found input variables with inconsistent numbers of\"\n\u001b[1;32m--> 235\u001b[1;33m                          \" samples: %r\" % [int(l) for l in lengths])\n\u001b[0m\u001b[0;32m    236\u001b[0m \u001b[1;33m\u001b[0m\u001b[0m\n\u001b[0;32m    237\u001b[0m \u001b[1;33m\u001b[0m\u001b[0m\n",
      "\u001b[1;31mValueError\u001b[0m: Found input variables with inconsistent numbers of samples: [10000, 49000]"
     ]
    }
   ],
   "source": [
    "accuracy = accuracy_score(y_test, y_pred.T)*100 \n",
    "accurac1y = accuracy_score(y_test, y_raw_pred.T)*100\n",
    "\n"
   ]
  },
  {
   "cell_type": "code",
   "execution_count": 33,
   "metadata": {},
   "outputs": [
    {
     "name": "stdout",
     "output_type": "stream",
     "text": [
      "14.11\n"
     ]
    }
   ],
   "source": [
    "print(accuracy)"
   ]
  },
  {
   "cell_type": "code",
   "execution_count": null,
   "metadata": {},
   "outputs": [],
   "source": []
  }
 ],
 "metadata": {
  "kernelspec": {
   "display_name": "Python 3",
   "language": "python",
   "name": "python3"
  },
  "language_info": {
   "codemirror_mode": {
    "name": "ipython",
    "version": 3
   },
   "file_extension": ".py",
   "mimetype": "text/x-python",
   "name": "python",
   "nbconvert_exporter": "python",
   "pygments_lexer": "ipython3",
   "version": "3.7.3"
  }
 },
 "nbformat": 4,
 "nbformat_minor": 2
}
