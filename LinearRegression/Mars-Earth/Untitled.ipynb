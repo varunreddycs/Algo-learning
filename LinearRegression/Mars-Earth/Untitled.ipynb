{
 "cells": [
  {
   "cell_type": "code",
   "execution_count": 3,
   "metadata": {},
   "outputs": [
    {
     "name": "stdout",
     "output_type": "stream",
     "text": [
      "Earth Model\n",
      "----------------------------------------------------\n",
      "Basis Function                 Pruned  Coefficient  \n",
      "----------------------------------------------------\n",
      "(Intercept)                    No      -748.773     \n",
      "h(x6+36.8964)                  Yes     None         \n",
      "h(-36.8964-x6)                 No      98.2409      \n",
      "h(x6+33.7644)*h(x6+36.8964)    No      24.5981      \n",
      "h(-33.7644-x6)*h(x6+36.8964)   Yes     None         \n",
      "h(x6+38.8328)*h(-36.8964-x6)   No      -70.8659     \n",
      "h(-38.8328-x6)*h(-36.8964-x6)  No      87.1087      \n",
      "h(x6+32.7734)                  No      -250.346     \n",
      "h(-32.7734-x6)                 No      81.1618      \n",
      "h(x6+30.8809)*h(x6+32.7734)    No      -56.3355     \n",
      "h(-30.8809-x6)*h(x6+32.7734)   No      24.8938      \n",
      "h(x6+34.5078)*h(x6+36.8964)    No      20.6931      \n",
      "h(-34.5078-x6)*h(x6+36.8964)   Yes     None         \n",
      "h(x6+37.4374)*h(-32.7734-x6)   No      39.4317      \n",
      "h(-37.4374-x6)*h(-32.7734-x6)  No      -50.3164     \n",
      "----------------------------------------------------\n",
      "MSE: 94.9335, GCV: 100.5852, RSQ: 0.9813, GRSQ: 0.9802\n",
      "Resulting sympy expression:\n",
      "87.1087132553621*Max(0, -x6 - 38.8328464302324)*Max(0, -x6 - 36.8964359919483) - 50.3163632540288*Max(0, -x6 - 37.437361535298)*Max(0, -x6 - 32.7734309073815) - 70.8658550687531*Max(0, -x6 - 36.8964359919483)*Max(0, x6 + 38.8328464302324) + 98.2409092903589*Max(0, -x6 - 36.8964359919483) + 39.4317454129994*Max(0, -x6 - 32.7734309073815)*Max(0, x6 + 37.437361535298) + 81.1617845111454*Max(0, -x6 - 32.7734309073815) + 24.8938292965736*Max(0, -x6 - 30.8809078363996)*Max(0, x6 + 32.7734309073815) - 56.3355367741253*Max(0, x6 + 30.8809078363996)*Max(0, x6 + 32.7734309073815) - 250.346487606893*Max(0, x6 + 32.7734309073815) + 24.5981401665526*Max(0, x6 + 33.7643681543787)*Max(0, x6 + 36.8964359919483) + 20.6931176734288*Max(0, x6 + 34.5077812314211)*Max(0, x6 + 36.8964359919483) - 748.772810538734\n"
     ]
    }
   ],
   "source": [
    "import numpy\n",
    "from pyearth import Earth\n",
    "from pyearth import export\n",
    "\n",
    "# Create some fake data\n",
    "numpy.random.seed(2)\n",
    "m = 1000\n",
    "n = 10\n",
    "X = 10 * numpy.random.uniform(size=(m, n)) - 40\n",
    "y = 100 * \\\n",
    "    (numpy.sin((X[:, 6])) - 4.0) + \\\n",
    "    10 * numpy.random.normal(size=m)\n",
    "\n",
    "# Fit an Earth model\n",
    "model = Earth(max_degree=2, minspan_alpha=.5, verbose=False)\n",
    "model.fit(X, y)\n",
    "\n",
    "print(model.summary())\n",
    "\n",
    "#return sympy expression\n",
    "print('Resulting sympy expression:')\n",
    "print(export.export_sympy(model))"
   ]
  },
  {
   "cell_type": "code",
   "execution_count": null,
   "metadata": {
    "collapsed": true
   },
   "outputs": [],
   "source": [
    "Plot Absolute valued Function\n",
    "    "
   ]
  },
  {
   "cell_type": "code",
   "execution_count": 9,
   "metadata": {},
   "outputs": [
    {
     "name": "stdout",
     "output_type": "stream",
     "text": [
      "Beginning forward pass\n",
      "-------------------------------------------------------------------\n",
      "iter  parent  var  knot  mse         terms  gcv      rsq    grsq   \n",
      "-------------------------------------------------------------------\n",
      "0     -       -    -     141.234045  1      141.517  0.000  0.000  \n",
      "1     0       20   775   1.083975  3      1.097  0.992  0.992  \n",
      "2     0       20   229   1.051280  5      1.075  0.993  0.992  \n",
      "---------------------------------------------------------------\n",
      "Stopping Condition 2: Improvement below threshold\n",
      "Beginning pruning pass\n",
      "--------------------------------------------\n",
      "iter  bf  terms  mse   gcv    rsq    grsq   \n",
      "--------------------------------------------\n",
      "0     -   5      1.05  1.075  0.993  0.992  \n",
      "1     4   4      1.05  1.069  0.993  0.992  \n",
      "2     1   3      1.06  1.070  0.993  0.992  \n",
      "3     3   2      82.31  82.892  0.417  0.414  \n",
      "4     2   1      141.23  141.517  0.000  0.000  \n",
      "------------------------------------------------\n",
      "Selected iteration: 1\n",
      "Forward Pass\n",
      "-------------------------------------------------------------------\n",
      "iter  parent  var  knot  mse         terms  gcv      rsq    grsq   \n",
      "-------------------------------------------------------------------\n",
      "0     -       -    -     141.234045  1      141.517  0.000  0.000  \n",
      "1     0       20   775   1.083975    3      1.097    0.992  0.992  \n",
      "2     0       20   229   1.051280    5      1.075    0.993  0.992  \n",
      "-------------------------------------------------------------------\n",
      "Stopping Condition 2: Improvement below threshold\n",
      "\n",
      "Pruning Pass\n",
      "------------------------------------------------\n",
      "iter  bf  terms  mse     gcv      rsq    grsq   \n",
      "------------------------------------------------\n",
      "0     -   5      1.05    1.075    0.993  0.992  \n",
      "1     4   4      1.05    1.069    0.993  0.992  \n",
      "2     1   3      1.06    1.070    0.993  0.992  \n",
      "3     3   2      82.31   82.892   0.417  0.414  \n",
      "4     2   1      141.23  141.517  0.000  0.000  \n",
      "------------------------------------------------\n",
      "Selected iteration: 1\n",
      "\n",
      "Earth Model\n",
      "-------------------------------------\n",
      "Basis Function  Pruned  Coefficient  \n",
      "-------------------------------------\n",
      "(Intercept)     No      0.309489     \n",
      "h(x20-3.59325)  No      0.285565     \n",
      "h(3.59325-x20)  No      1.00186      \n",
      "h(x20-4.59524)  No      0.714948     \n",
      "h(4.59524-x20)  Yes     None         \n",
      "-------------------------------------\n",
      "MSE: 1.0513, GCV: 1.0694, RSQ: 0.9926, GRSQ: 0.9924\n"
     ]
    },
    {
     "data": {
      "image/png": "[encoded data removed]",
      "text/plain": [
       "<matplotlib.figure.Figure at 0x21121dd3710>"
      ]
     },
     "metadata": {},
     "output_type": "display_data"
    },
    {
     "name": "stdout",
     "output_type": "stream",
     "text": [
      "1.0018616333926*Max(0, -x20 + 3.59324717876233) + 0.714948227753838*Max(0, x20 - 4.5952434900279) + 0.285564654054911*Max(0, x20 - 3.59324717876233) + 0.309489381306281\n"
     ]
    }
   ],
   "source": [
    "import numpy\n",
    "import matplotlib.pyplot as plt\n",
    "from pyearth import Earth\n",
    "\n",
    "# Create some fake data\n",
    "numpy.random.seed(2)\n",
    "m = 1000\n",
    "n = 30\n",
    "X = 80 * numpy.random.uniform(size=(m, n)) - 40\n",
    "y = numpy.abs(X[:, 20] - 4.0) + 1 * numpy.random.normal(size=m)\n",
    "\n",
    "# Fit an Earth model\n",
    "model = Earth(max_degree=1, verbose=True)\n",
    "model.fit(X, y)\n",
    "\n",
    "# Print the model\n",
    "print(model.trace())\n",
    "print(model.summary())\n",
    "\n",
    "# Plot the model\n",
    "y_hat = model.predict(X)\n",
    "plt.figure()\n",
    "plt.plot(X[:, 20], y, 'r.')\n",
    "plt.plot(X[:, 20], y_hat, 'b.')\n",
    "plt.show()\n",
    "print(export.export_sympy(model))"
   ]
  },
  {
   "cell_type": "code",
   "execution_count": null,
   "metadata": {
    "collapsed": true
   },
   "outputs": [],
   "source": []
  }
 ],
 "metadata": {
  "kernelspec": {
   "display_name": "Python 3",
   "language": "python",
   "name": "python3"
  },
  "language_info": {
   "codemirror_mode": {
    "name": "ipython",
    "version": 3
   },
   "file_extension": ".py",
   "mimetype": "text/x-python",
   "name": "python",
   "nbconvert_exporter": "python",
   "pygments_lexer": "ipython3",
   "version": "3.6.3"
  }
 },
 "nbformat": 4,
 "nbformat_minor": 2
}
